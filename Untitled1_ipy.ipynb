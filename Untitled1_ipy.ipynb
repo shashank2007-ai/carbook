{
  "nbformat": 4,
  "nbformat_minor": 0,
  "metadata": {
    "colab": {
      "provenance": [],
      "include_colab_link": true
    },
    "kernelspec": {
      "name": "python3",
      "display_name": "Python 3"
    },
    "language_info": {
      "name": "python"
    }
  },
  "cells": [
    {
      "cell_type": "markdown",
      "metadata": {
        "id": "view-in-github",
        "colab_type": "text"
      },
      "source": [
        "<a href=\"https://colab.research.google.com/github/shashank2007-ai/carbook/blob/main/Untitled1_ipy.ipynb\" target=\"_parent\"><img src=\"https://colab.research.google.com/assets/colab-badge.svg\" alt=\"Open In Colab\"/></a>"
      ]
    },
    {
      "cell_type": "code",
      "execution_count": 3,
      "metadata": {
        "colab": {
          "base_uri": "https://localhost:8080/"
        },
        "id": "PzOGHo72N2QK",
        "outputId": "5e81c5ac-0edb-4345-8c90-6178b7d6e251"
      },
      "outputs": [
        {
          "output_type": "stream",
          "name": "stdout",
          "text": [
            "Welcome to Car booking system\n",
            "Choose mode\n",
            "Buy\t\tSell\t\tRent\n",
            "n\n",
            "Enter Car Class\n",
            "SUV\t\tSedan\t\tSports\t\tLuxury\n",
            "jk\n",
            "choose car brand\n",
            "available brands:-\n",
            " Audi \t Bmw \t Tata \t Mahindra\tFord \t Land rover \t Mercedes \t Kia \t Toyota \t Nissan\n"
          ]
        }
      ],
      "source": [
        "print('Welcome to Car booking system')\n",
        "print('Choose mode\\nBuy\\t\\tSell\\t\\tRent')\n",
        "mode = input('')\n",
        "print('Enter Car Class\\nSUV\\t\\tSedan\\t\\tSports\\t\\tLuxury')\n",
        "def Cartype():\n",
        "  a = input('')\n",
        "  return a\n",
        "cartype = Cartype()\n",
        "n='to buy'\n",
        "def SUV():\n",
        "  print('choose car brand')\n",
        "  print('available brands:-\\n Audi \\t Bmw \\t Tata \\t Mahindra\\tFord \\t Land rover \\t Mercedes \\t Kia \\t Toyota \\t Nissan')\n",
        "SUV()"
      ]
    }
  ]
}