{
  "nbformat": 4,
  "nbformat_minor": 0,
  "metadata": {
    "colab": {
      "provenance": [],
      "include_colab_link": true
    },
    "kernelspec": {
      "name": "python3",
      "display_name": "Python 3"
    },
    "language_info": {
      "name": "python"
    }
  },
  "cells": [
    {
      "cell_type": "markdown",
      "metadata": {
        "id": "view-in-github",
        "colab_type": "text"
      },
      "source": [
        "<a href=\"https://colab.research.google.com/github/shashank2007-ai/carbook/blob/main/Untitled1_ipy.ipynb\" target=\"_parent\"><img src=\"https://colab.research.google.com/assets/colab-badge.svg\" alt=\"Open In Colab\"/></a>"
      ]
    },
    {
      "cell_type": "code",
      "execution_count": 6,
      "metadata": {
        "colab": {
          "base_uri": "https://localhost:8080/"
        },
        "id": "PzOGHo72N2QK",
        "outputId": "6a2112cd-0fab-4869-9d65-b76c0500d8d0"
      },
      "outputs": [
        {
          "name": "stdout",
          "output_type": "stream",
          "text": [
            "Welcome to Car booking system\n",
            "Choose mode\n",
            "Buy\t\tSell\t\tRent\n",
            "buy\n",
            "Enter Car Class\n",
            "SUV\t\tSedan\t\tSports\t\tLuxury\n",
            "suv\n",
            "choose car to see more details\n",
            "available Cars:-\n",
            " 1› Audi Q3 \t 2› Bmw X5 \t 3› Tata Safari \t 4› Mahindra Thar \t5› Ford Ecosport \n",
            " 6› Land rover \t 7› Mercedes G Class \t8› Kia Sonet \t9› Toyota Fortuner \t10› Nissan Magnite\n",
            "land\n"
          ]
        }
      ],
      "source": [
        "print('Welcome to Car booking system')\n",
        "print('Choose mode\\nBuy\\t\\tSell\\t\\tRent')\n",
        "mode = input('')\n",
        "print('Enter Car Class\\nSUV\\t\\tSedan\\t\\tSports\\t\\tLuxury')\n",
        "def Cartype():\n",
        "  a = input('')\n",
        "  return a\n",
        "cartype = Cartype()\n",
        "n='to buy'\n",
        "def SUV():\n",
        "  print('choose car to see more details')\n",
        "  print('available Cars:-\\n 1› Audi Q3 \\t 2› Bmw X5 \\t 3› Tata Safari \\t 4› Mahindra Thar \\t5› Ford Ecosport \\n 6› Land rover \\t 7› Mercedes G Class \\t8› Kia Sonet \\t9› Toyota Fortuner \\t10› Nissan Magnite')\n",
        "  Suv_option=input('')\n",
        "\n",
        "SUV()\n"
      ]
    }
  ]
}