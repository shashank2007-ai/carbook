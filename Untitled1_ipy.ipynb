{
  "nbformat": 4,
  "nbformat_minor": 0,
  "metadata": {
    "colab": {
      "provenance": [],
      "include_colab_link": true
    },
    "kernelspec": {
      "name": "python3",
      "display_name": "Python 3"
    },
    "language_info": {
      "name": "python"
    }
  },
  "cells": [
    {
      "cell_type": "markdown",
      "metadata": {
        "id": "view-in-github",
        "colab_type": "text"
      },
      "source": [
        "<a href=\"https://colab.research.google.com/github/shashank2007-ai/carbook/blob/main/Untitled1_ipy.ipynb\" target=\"_parent\"><img src=\"https://colab.research.google.com/assets/colab-badge.svg\" alt=\"Open In Colab\"/></a>"
      ]
    },
    {
      "cell_type": "code",
      "execution_count": 1,
      "metadata": {
        "colab": {
          "base_uri": "https://localhost:8080/"
        },
        "id": "PzOGHo72N2QK",
        "outputId": "5fa1b006-1c4a-495f-b95e-da19d15e8f6b"
      },
      "outputs": [
        {
          "output_type": "stream",
          "name": "stdout",
          "text": [
            "                                  WELCOME TO CAR BOOKING/SELLING/RENTING SYSTEM\n",
            "          _______            -           __                                ______--------___   \n",
            "         //  ||\\ \\         --          ~( @\\   \\                          /|             / |   \n",
            "   _____//___||_\\ \\___    ---   _________]_[__/_>________      o___________|_\\__________/__|   \n",
            "  }  _          _    \\         /  ____ \\ <>     |  ____  \\    ]|___     |  |=   ||  =|___  |   \n",
            "  |_/ \\________/ \\___|        =\\_/ __ \\_\\_______|_/ __ \\__D   //   \\    |  |____||_///   \\|  \n",
            " ___\\_/________\\_/______  ________(__)_____________(__)____   |  X  |\\--------------/|  X  |\\   \n",
            "                                                               \\___/                  \\___/   \n",
            "WELCOME TO OUR NO.1 CAR RESALE AND BOOKING SITE!! ENJOY 10% OFF ON YOUR FIRST REGISTRATION\n",
            "Enter your name:s\n",
            "Enter your state of residence:h\n",
            "Enter your phone number:89\n",
            "your OTP is : 9911\n",
            "Enter the OTP sent on your mobile:9911\n",
            "OTP verified\n",
            "Choose mode\n",
            "Buy\t\tSell\t\tRent\n",
            "lljjlkj\n",
            "Enter Car Class\n",
            "SUV\t\tSedan\t\tSports\t\tLuxury\n",
            "suv\n",
            "choose car to see more details (use option no or first word of car)\n",
            "available Cars:-\n",
            " 1. Audi Q3 \t 2. BMW X5 \t 3. Tata Safari \t 4. Mahindra Thar \t 5. Ford Ecosport \n",
            " 6. Land rover \t 7. Mercedes G Class \t 8. Kia Sonet \t9. Toyota Fortuner \t10. Nissan Magnite\n",
            "8\n",
            "Kia Sonet\n"
          ]
        }
      ],
      "source": [
        "import random\n",
        "\n",
        "print('                                  WELCOME TO CAR BOOKING/SELLING/RENTING SYSTEM')\n",
        "print('          _______            -           __                                ______--------___   ')\n",
        "print('         //  ||\\ \\         --          ~( @\\   \\                          /|             / |   ')\n",
        "print('   _____//___||_\\ \\___    ---   _________]_[__/_>________      o___________|_\\__________/__|   ')\n",
        "print('  }  _          _    \\         /  ____ \\ <>     |  ____  \\    ]|___     |  |=   ||  =|___  |   ')\n",
        "print('  |_/ \\________/ \\___|        =\\_/ __ \\_\\_______|_/ __ \\__D   //   \\\\    |  |____||_///   \\\\|  ')\n",
        "print(' ___\\_/________\\_/______  ________(__)_____________(__)____   |  X  |\\--------------/|  X  |\\   ')\n",
        "print('                                                               \\___/                  \\___/   ')\n",
        "print(\"WELCOME TO OUR NO.1 CAR RESALE AND BOOKING SITE!! ENJOY 10% OFF ON YOUR FIRST REGISTRATION\")\n",
        "U_name=input(\"Enter your name:\")\n",
        "res=input(\"Enter your state of residence:\")\n",
        "ph_no=int(input(\"Enter your phone number:\"))\n",
        "def otttp():\n",
        "  otp=random.randint(1000,9999)\n",
        "  print(\"your OTP is :\",otp)\n",
        "  ottp=int(input(\"Enter the OTP sent on your mobile:\"))\n",
        "  if otp==ottp:\n",
        "    print(\"OTP verified\")\n",
        "  else:\n",
        "    print(\"incorrect otp\")\n",
        "    otttp()\n",
        "otttp()\n",
        "print('Choose mode\\nBuy\\t\\tSell\\t\\tRent')\n",
        "mode = input('')\n",
        "print('Enter Car Class\\nSUV\\t\\tSedan\\t\\tSports\\t\\tLuxury')\n",
        "def Cartype():\n",
        "  a = input('')\n",
        "  return a\n",
        "cartype = Cartype()\n",
        "n='to buy'\n",
        "dict_suv={1:'Audi Q3',2:'BMW X5',3:'Tata Safari',4:'Mahindra Thar',5:'Ford Ecosport',6:'Land Rover',7:'Mercedes G Class',8:'Kia Sonet',9:'Toyota Fortuner',10:'Nissan Magnite'}\n",
        "dict_sedan={1:'Audi A4',2:'Nissan Altima',3:'Mercedes Benz',4:'Skoda Slavia',5:'Swift Dezire',6:'BMW M340I',7:'Hyundai Aura',8:'Volvo S90',9:'Toyota Camry',10:'Jaguae XF',}\n",
        "dict_sports={1:'Chevolet Camaro',2:'Chevolet Corvette',3:'Ford Mustang',4:'Mclaren Artura',5:'Porche 911',6:'Pagani Zonda R',7:'Toyota Supra',8:'Audi TT',9:\"Mazda Furai\"}\n",
        "\n",
        "def SUV():\n",
        "  print('choose car to see more details (use option no or first word of car)')\n",
        "  print('available Cars:-\\n 1. Audi Q3 \\t 2. BMW X5 \\t 3. Tata Safari \\t 4. Mahindra Thar \\t 5. Ford Ecosport \\n 6. Land rover \\t 7. Mercedes G Class \\t 8. Kia Sonet \\t9. Toyota Fortuner \\t10. Nissan Magnite')\n",
        "  Suv_option=int(input(''))\n",
        "  print(dict_suv[Suv_option])\n",
        "def Sedan():\n",
        "  print('choose car to see more details (use option no or first word of car)')\n",
        "  print('available Cars:-\\n 1. Audi A4 \\t 2. Nissan Altima \\t 3. Mercedes Benz \\t 4. Skoda Slavia \\t5. Swift Dezire \\n 6. BMW M340I \\t 7. Hyundai Aura \\t8. Volvo S90 \\t9. Toyota Camry \\t10. Jaguar XF')\n",
        "if cartype == 'SUV' or cartype == 'suv':\n",
        "  SUV()\n",
        "elif cartype == 'Sedan' or cartype == 'sedan':\n",
        "  Sedan()\n",
        "def sports():\n",
        "  print(\"choose car to see more details (use option no or first word of car)\")\n",
        "  print(\"available cars:-\\n 1.Chevolet Camaro \\t 2 .Chevolet Corvette \\t 3.Ford Mustang \\t 4.Mclaren Artura \\t 5.Porche 911 \\t 6.Pagani Zonda R \\t 7.Toyota Supra \\t 8.Audi TT \\t 9:Mazda Furai}\")\n",
        "\n",
        "\n",
        "\n",
        "\n"
      ]
    }
  ]
}