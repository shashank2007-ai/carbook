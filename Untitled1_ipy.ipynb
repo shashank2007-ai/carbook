{
  "nbformat": 4,
  "nbformat_minor": 0,
  "metadata": {
    "colab": {
      "provenance": [],
      "include_colab_link": true
    },
    "kernelspec": {
      "name": "python3",
      "display_name": "Python 3"
    },
    "language_info": {
      "name": "python"
    }
  },
  "cells": [
    {
      "cell_type": "markdown",
      "metadata": {
        "id": "view-in-github",
        "colab_type": "text"
      },
      "source": [
        "<a href=\"https://colab.research.google.com/github/shashank2007-ai/carbook/blob/main/Untitled1_ipy.ipynb\" target=\"_parent\"><img src=\"https://colab.research.google.com/assets/colab-badge.svg\" alt=\"Open In Colab\"/></a>"
      ]
    },
    {
      "cell_type": "code",
      "execution_count": 6,
      "metadata": {
        "colab": {
          "base_uri": "https://localhost:8080/"
        },
        "id": "PzOGHo72N2QK",
        "outputId": "c38bd751-7813-47d7-d092-784e2a8f1043"
      },
      "outputs": [
        {
          "output_type": "stream",
          "name": "stdout",
          "text": [
            "Welcome to Car booking system\n",
            "Choose mode\n",
            "Buy\t\tSell\t\tRent\n",
            "d\n",
            "Enter Car Class\n",
            "SUV\t\tSedan\t\tSports\t\tLuxury\n",
            "SUV\n",
            "choose car to see more details (use option no or first word of car)\n",
            "available Cars:-\n",
            " 1› Audi Q3 \t 2› Bmw X5 \t 3› Tata Safari \t 4› Mahindra Thar \t5› Ford Ecosport \n",
            " 6› Land rover \t 7› Mercedes G Class \t8› Kia Sonet \t9› Toyota Fortuner \t10› Nissan Magnite\n",
            "7\n",
            "Mercedes G Class\n"
          ]
        }
      ],
      "source": [
        "print('Welcome to Car booking system')\n",
        "print('Choose mode\\nBuy\\t\\tSell\\t\\tRent')\n",
        "mode = input('')\n",
        "print('Enter Car Class\\nSUV\\t\\tSedan\\t\\tSports\\t\\tLuxury')\n",
        "def Cartype():\n",
        "  a = input('')\n",
        "  return a\n",
        "cartype = Cartype()\n",
        "n='to buy'\n",
        "dict_suv={1:'Audi Q3',2:'Bmw X5',3:'Tata Safari',4:'Mahindra Thar',5:'Ford Ecosport',6:'Land Rover',7:'Mercedes G Class',8:'Kia Sonet',9:'Toyota Fortuner',10:'Nissan Magnite'}\n",
        "def SUV():\n",
        "  print('choose car to see more details (use option no or first word of car)')\n",
        "  print('available Cars:-\\n 1› Audi Q3 \\t 2› Bmw X5 \\t 3› Tata Safari \\t 4› Mahindra Thar \\t5› Ford Ecosport \\n 6› Land rover \\t 7› Mercedes G Class \\t8› Kia Sonet \\t9› Toyota Fortuner \\t10› Nissan Magnite')\n",
        "  Suv_option=input('')\n",
        "  print(dict_suv[7])\n",
        "def Sedan():\n",
        "  print('choose car to see more details (use option no or first word of car)')\n",
        "  print('available Cars:-\\n 1› Audi A4 \\t 2› Nissan Altima \\t 3› Mercedes Benz \\t 4› Skoda Slavia \\t5› Ford Ecosport \\n 6› Land rover \\t 7› Mercedes G Class \\t8› Kia Sonet \\t9› Toyota Fortuner \\t10› Nissan Magnite')\n",
        "if cartype == 'SUV' or cartype == 'suv':\n",
        "  SUV()\n",
        "elif cartype == 'Sedan' or cartype == 'sedan':\n",
        "  Sedan()"
      ]
    }
  ]
}