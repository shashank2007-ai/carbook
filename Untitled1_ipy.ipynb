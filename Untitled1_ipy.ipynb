{
  "nbformat": 4,
  "nbformat_minor": 0,
  "metadata": {
    "colab": {
      "provenance": [],
      "include_colab_link": true
    },
    "kernelspec": {
      "name": "python3",
      "display_name": "Python 3"
    },
    "language_info": {
      "name": "python"
    }
  },
  "cells": [
    {
      "cell_type": "markdown",
      "metadata": {
        "id": "view-in-github",
        "colab_type": "text"
      },
      "source": [
        "<a href=\"https://colab.research.google.com/github/shashank2007-ai/carbook/blob/main/Untitled1_ipy.ipynb\" target=\"_parent\"><img src=\"https://colab.research.google.com/assets/colab-badge.svg\" alt=\"Open In Colab\"/></a>"
      ]
    },
    {
      "cell_type": "code",
      "execution_count": null,
      "metadata": {
        "colab": {
          "base_uri": "https://localhost:8080/"
        },
        "id": "PzOGHo72N2QK",
        "outputId": "e291f7d2-9c50-427c-ce18-42de0aa2552e"
      },
      "outputs": [
        {
          "name": "stdout",
          "output_type": "stream",
          "text": [
            "Welcome to Car booking system\n",
            "Choose mode\n",
            "Buy\t\tSell\t\tRent\n",
            "s\n",
            "Enter Car Class\n",
            "SUV\t\tSedan\t\tSports\t\tLuxury\n",
            "ss\n"
          ]
        }
      ],
      "source": [
        "print('Welcome to Car booking system')\n",
        "print('Choose mode\\nBuy\\t\\tSell\\t\\tRent')\n",
        "mode = input('')\n",
        "print('Enter Car Class\\nSUV\\t\\tSedan\\t\\tSports\\t\\tLuxury')\n",
        "def Cartype():\n",
        "  a = input('')\n",
        "  return a\n",
        "cartype = Cartype()\n",
        "n='to buy'\n",
        "def SUV():\n",
        "  print('Suv cars available to',n,'are ')"
      ]
    }
  ]
}